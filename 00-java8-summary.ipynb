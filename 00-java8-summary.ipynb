{
 "cells": [
  {
   "cell_type": "markdown",
   "metadata": {},
   "source": [
    "<h1>Java 8 Java 8 Java 8 Java 8 Java 8</h1>"
   ]
  },
  {
   "cell_type": "code",
   "execution_count": 1,
   "metadata": {},
   "outputs": [
    {
     "name": "stdout",
     "output_type": "stream",
     "text": [
      "Hello stdout!\n"
     ]
    },
    {
     "name": "stderr",
     "output_type": "stream",
     "text": [
      "Hello stderr!\n"
     ]
    },
    {
     "data": {
      "text/plain": [
       "Hello Out!"
      ]
     },
     "execution_count": 1,
     "metadata": {},
     "output_type": "execute_result"
    }
   ],
   "source": [
    "System.out.println(\"Hello stdout!\");\n",
    "System.err.println(\"Hello stderr!\");\n",
    "\n",
    "\"Hello Out!\";"
   ]
  },
  {
   "cell_type": "code",
   "execution_count": 2,
   "metadata": {},
   "outputs": [],
   "source": [
    "import java.util.function.*;\n",
    "import java.util.stream.*;"
   ]
  },
  {
   "cell_type": "markdown",
   "metadata": {},
   "source": [
    "# 1. Interfaces"
   ]
  },
  {
   "cell_type": "markdown",
   "metadata": {},
   "source": [
    "## Typical Java 7 Interface"
   ]
  },
  {
   "cell_type": "code",
   "execution_count": 3,
   "metadata": {},
   "outputs": [],
   "source": [
    "interface Calculator {\n",
    "    int add(int first, int second);\n",
    "    int subtract(int first, int second);\n",
    "    int divide(int number, int divisor);\n",
    "    int multiply(int first, int second);\n",
    "}"
   ]
  },
  {
   "cell_type": "code",
   "execution_count": 4,
   "metadata": {},
   "outputs": [],
   "source": [
    "class BasicCalculator implements Calculator {\n",
    "\n",
    "    @Override\n",
    "    public int add(int first, int second) {\n",
    "        return first + second;\n",
    "    }\n",
    "\n",
    "    @Override\n",
    "    public int subtract(int first, int second) {\n",
    "        return first - second;\n",
    "    }\n",
    "\n",
    "    @Override\n",
    "    public int divide(int number, int divisor) {\n",
    "        if (divisor == 0) {\n",
    "            throw new IllegalArgumentException(\"El divisor no puede ser cero.\");\n",
    "        }\n",
    "        return number / divisor;\n",
    "    }\n",
    "\n",
    "    @Override\n",
    "    public int multiply(int first, int second) {\n",
    "        return first * second;\n",
    "    }\n",
    "}"
   ]
  },
  {
   "cell_type": "code",
   "execution_count": 5,
   "metadata": {},
   "outputs": [
    {
     "data": {
      "text/plain": [
       "3"
      ]
     },
     "execution_count": 5,
     "metadata": {},
     "output_type": "execute_result"
    }
   ],
   "source": [
    "Calculator calculator = new BasicCalculator();\n",
    "int sum = calculator.add(1, 2);\n",
    "sum;"
   ]
  },
  {
   "cell_type": "code",
   "execution_count": 6,
   "metadata": {},
   "outputs": [
    {
     "data": {
      "text/plain": [
       "REPL.$JShell$18$BasicCalculator@64533006"
      ]
     },
     "execution_count": 6,
     "metadata": {},
     "output_type": "execute_result"
    }
   ],
   "source": [
    "calculator"
   ]
  },
  {
   "cell_type": "code",
   "execution_count": 7,
   "metadata": {},
   "outputs": [
    {
     "data": {
      "text/plain": [
       "1"
      ]
     },
     "execution_count": 7,
     "metadata": {},
     "output_type": "execute_result"
    }
   ],
   "source": [
    "BasicCalculator basicCalculator = new BasicCalculator();\n",
    "int difference = basicCalculator.subtract(3, 2);\n",
    "difference;"
   ]
  },
  {
   "cell_type": "code",
   "execution_count": 8,
   "metadata": {},
   "outputs": [
    {
     "data": {
      "text/plain": [
       "REPL.$JShell$18$BasicCalculator@6f334d51"
      ]
     },
     "execution_count": 8,
     "metadata": {},
     "output_type": "execute_result"
    }
   ],
   "source": [
    "basicCalculator"
   ]
  },
  {
   "cell_type": "code",
   "execution_count": 9,
   "metadata": {},
   "outputs": [
    {
     "name": "stdout",
     "output_type": "stream",
     "text": [
      "Calculator\n",
      "BasicCalculator"
     ]
    }
   ],
   "source": [
    "if (calculator instanceof Calculator)\n",
    "    System.out.println(\"Calculator\");\n",
    "if (calculator instanceof BasicCalculator)\n",
    "    System.out.print(\"BasicCalculator\");"
   ]
  },
  {
   "cell_type": "markdown",
   "metadata": {},
   "source": [
    "## Factory"
   ]
  },
  {
   "cell_type": "code",
   "execution_count": 10,
   "metadata": {},
   "outputs": [],
   "source": [
    "public abstract class CalculatorFactory {\n",
    "\n",
    "    public static Calculator getInstance() {\n",
    "        return new BasicCalculator();\n",
    "    }\n",
    "}"
   ]
  },
  {
   "cell_type": "code",
   "execution_count": 11,
   "metadata": {},
   "outputs": [],
   "source": [
    "Calculator calculator = CalculatorFactory.getInstance()"
   ]
  },
  {
   "cell_type": "code",
   "execution_count": 12,
   "metadata": {},
   "outputs": [
    {
     "data": {
      "text/plain": [
       "3"
      ]
     },
     "execution_count": 12,
     "metadata": {},
     "output_type": "execute_result"
    }
   ],
   "source": [
    "int sum = calculator.add(1, 2);\n",
    "sum;"
   ]
  },
  {
   "cell_type": "markdown",
   "metadata": {},
   "source": [
    "## Java 8: Static methods inside interfaces"
   ]
  },
  {
   "cell_type": "code",
   "execution_count": 13,
   "metadata": {},
   "outputs": [],
   "source": [
    "public interface Calculator {\n",
    "\n",
    "    static Calculator getInstance() {\n",
    "        return new BasicCalculator();\n",
    "    }\n",
    "    \n",
    "    int add(int first, int second);\n",
    "    int subtract(int first, int second);\n",
    "    int divide(int number, int divisor);\n",
    "    int multiply(int first, int second);\n",
    "}"
   ]
  },
  {
   "cell_type": "code",
   "execution_count": 14,
   "metadata": {},
   "outputs": [
    {
     "data": {
      "text/plain": [
       "REPL.$JShell$18C$BasicCalculator@7dcc57da"
      ]
     },
     "execution_count": 14,
     "metadata": {},
     "output_type": "execute_result"
    }
   ],
   "source": [
    "Calculator calculator = Calculator.getInstance();\n",
    "calculator;"
   ]
  },
  {
   "cell_type": "code",
   "execution_count": 15,
   "metadata": {},
   "outputs": [
    {
     "name": "stdout",
     "output_type": "stream",
     "text": [
      "Calculator\n",
      "BasicCalculator"
     ]
    }
   ],
   "source": [
    "if (calculator instanceof Calculator)\n",
    "    System.out.println(\"Calculator\");\n",
    "if (calculator instanceof BasicCalculator)\n",
    "    System.out.print(\"BasicCalculator\");"
   ]
  },
  {
   "cell_type": "markdown",
   "metadata": {},
   "source": [
    "This doesn't work without casting:"
   ]
  },
  {
   "cell_type": "code",
   "execution_count": 16,
   "metadata": {},
   "outputs": [
    {
     "ename": "CompilationException",
     "evalue": "",
     "output_type": "error",
     "traceback": [
      "\u001b[1m\u001b[30m|   \u001b[1m\u001b[30mBasicCalculator basicCalculator = \u001b[0m\u001b[1m\u001b[30m\u001b[41mcalculator\u001b[0m\u001b[1m\u001b[30m;\u001b[0m",
      "\u001b[1m\u001b[31mincompatible types: Calculator cannot be converted to BasicCalculator\u001b[0m",
      ""
     ]
    }
   ],
   "source": [
    "BasicCalculator basicCalculator = calculator"
   ]
  },
  {
   "cell_type": "code",
   "execution_count": 17,
   "metadata": {},
   "outputs": [],
   "source": [
    "BasicCalculator basicCalculator = (BasicCalculator) calculator"
   ]
  },
  {
   "cell_type": "markdown",
   "metadata": {},
   "source": [
    "## Java 8: Default methods in interfaces"
   ]
  },
  {
   "cell_type": "code",
   "execution_count": 18,
   "metadata": {},
   "outputs": [],
   "source": [
    "public interface Calculator {\n",
    "\n",
    "    static Calculator getInstance() {\n",
    "        return new BasicCalculator();\n",
    "    }\n",
    "    \n",
    "    int add(int first, int second);\n",
    "    int subtract(int first, int second);\n",
    "    int divide(int number, int divisor);\n",
    "    int multiply(int first, int second);\n",
    "    \n",
    "    default int remainder(int number, int divisor) {\n",
    "        return subtract(number, multiply(divisor, divide(number, divisor)));\n",
    "    }\n",
    "}"
   ]
  },
  {
   "cell_type": "code",
   "execution_count": 19,
   "metadata": {},
   "outputs": [
    {
     "data": {
      "text/plain": [
       "1"
      ]
     },
     "execution_count": 19,
     "metadata": {},
     "output_type": "execute_result"
    }
   ],
   "source": [
    "Calculator calculator = Calculator.getInstance();\n",
    "calculator.remainder(7, 2)"
   ]
  },
  {
   "cell_type": "markdown",
   "metadata": {},
   "source": [
    "This default method can be reimplemented in classes implementing the interface (having preference over the default implementation). So this enables us to mimic multiple class extension in this aspect.\n",
    "\n",
    "If a class implements several interfaces and the method is implemented in more than one, the implementation of the most specific one is used (if a class C implements A and B, and A implements B also, the method from A is used)"
   ]
  },
  {
   "cell_type": "markdown",
   "metadata": {},
   "source": [
    "# 2. Lambdas"
   ]
  },
  {
   "cell_type": "markdown",
   "metadata": {},
   "source": [
    "These expressions allow **functional programming** in Java, avoiding innner classes, and enabling **high level functions** (taking another functions as parameter or returning them)."
   ]
  },
  {
   "cell_type": "markdown",
   "metadata": {},
   "source": [
    "## High level functions"
   ]
  },
  {
   "cell_type": "markdown",
   "metadata": {},
   "source": [
    "Example: word collection sorting, using a lambda function as comparator."
   ]
  },
  {
   "cell_type": "code",
   "execution_count": 20,
   "metadata": {},
   "outputs": [
    {
     "data": {
      "text/plain": [
       "[rahul, sameer, shekhar]"
      ]
     },
     "execution_count": 20,
     "metadata": {},
     "output_type": "execute_result"
    }
   ],
   "source": [
    "List<String> names = Arrays.asList(\"shekhar\", \"rahul\", \"sameer\");\n",
    "Collections.sort(names, (first, second) -> first.length() - second.length());\n",
    "names;"
   ]
  },
  {
   "cell_type": "code",
   "execution_count": 21,
   "metadata": {},
   "outputs": [
    {
     "data": {
      "text/plain": [
       "[aaa, bbb, ccc]"
      ]
     },
     "execution_count": 21,
     "metadata": {},
     "output_type": "execute_result"
    }
   ],
   "source": [
    "List<String> names = Arrays.asList(\"aaa\", \"bbb\", \"ccc\");\n",
    "Collections.sort(names, (first, second) -> first.compareTo(second));\n",
    "names;"
   ]
  },
  {
   "cell_type": "markdown",
   "metadata": {},
   "source": [
    "What we passed as parameter is equivalent to:\n",
    "```java\n",
    "Comparator<String> comparator = (first, second) -> first.length() - second.length();\n",
    "```\n",
    "The expression corresponds with the compare() method:\n",
    "```java\n",
    "int compare(T o1, T o2);\n",
    "```\n",
    "We can use this way only interfaces with a single abstract method. We can use the `@FunctionaInterface` tag in front of the interface."
   ]
  },
  {
   "cell_type": "markdown",
   "metadata": {},
   "source": [
    "## Built-in functional interfaces"
   ]
  },
  {
   "cell_type": "markdown",
   "metadata": {},
   "source": [
    " Java 8 provides a lot of functional interfaces in the `java.util.function` package:"
   ]
  },
  {
   "cell_type": "markdown",
   "metadata": {},
   "source": [
    "### java.util.function.Predicate\n",
    "Para comprobación de un predicado (devuelve un booleano).\n",
    "Ejemplo:\n",
    "```java\n",
    "Predicate<String> namesStartingWithS = name -> name.startsWith(\"s\");\n",
    "```\n",
    "\n",
    "### java.util.function.Consumer\n",
    "Para realizar acciones que no devuelven nada.\n",
    "Ejemplo:\n",
    "```java\n",
    "Consumer<String> messageConsumer = message -> System.out.println(message);\n",
    "```\n",
    "\n",
    "### java.util.function.Function<T,R>\n",
    "Para realizar acciones que devuelven resultado.\n",
    "Ejemplo:\n",
    "```java\n",
    "Function<String, String> toUpperCase = name -> name.toUpperCase();\n",
    "```\n",
    "Que como simplemente llama a una función podría simplificarse así:\n",
    "```java\n",
    "Function<String, Integer> toUpperCase = String::toUpperCase;\n",
    "```\n",
    "\n",
    "Otro ejemplo de referencia a método con parámetros:"
   ]
  },
  {
   "cell_type": "code",
   "execution_count": 22,
   "metadata": {},
   "outputs": [
    {
     "data": {
      "text/plain": [
       "10"
      ]
     },
     "execution_count": 22,
     "metadata": {},
     "output_type": "execute_result"
    }
   ],
   "source": [
    "Function<List<Integer>, Integer> maxFn = Collections::max;\n",
    "int m = maxFn.apply(Arrays.asList(1, 10, 3, 5));\n",
    "m;"
   ]
  },
  {
   "cell_type": "markdown",
   "metadata": {},
   "source": [
    "### java.util.function.Supplier\n",
    "Para generar un resultado sin ninguna entrada.\n",
    "Ejemplo:\n",
    "```java\n",
    "Supplier<String> uuidGenerator= () -> UUID.randomUUID().toString();\n",
    "```"
   ]
  },
  {
   "cell_type": "markdown",
   "metadata": {},
   "source": [
    "## Lambdas refactoring"
   ]
  },
  {
   "cell_type": "code",
   "execution_count": 23,
   "metadata": {},
   "outputs": [],
   "source": [
    "List<String> names = Arrays.asList(\"shekhar\", \"rahul\", \"sameer\");"
   ]
  },
  {
   "cell_type": "code",
   "execution_count": 24,
   "metadata": {},
   "outputs": [
    {
     "name": "stdout",
     "output_type": "stream",
     "text": [
      "shekhar\n",
      "rahul\n",
      "sameer\n"
     ]
    }
   ],
   "source": [
    "names.forEach(System.out::println)"
   ]
  },
  {
   "cell_type": "code",
   "execution_count": 25,
   "metadata": {},
   "outputs": [
    {
     "name": "stdout",
     "output_type": "stream",
     "text": [
      "shekhar\n",
      "sameer\n"
     ]
    }
   ],
   "source": [
    "Predicate<String> startsWithS = name -> name.startsWith(\"s\");\n",
    "for (String name : names) {\n",
    "    if (startsWithS.test(name))\n",
    "        System.out.println(name);\n",
    "}"
   ]
  },
  {
   "cell_type": "markdown",
   "metadata": {},
   "source": [
    "# 3. Streams"
   ]
  },
  {
   "cell_type": "markdown",
   "metadata": {},
   "source": [
    "Streams replace Collections for data processing. A stream is an abstract view for a data sequence, which is lazy (doesn't hold data until they're executed):"
   ]
  },
  {
   "cell_type": "code",
   "execution_count": 26,
   "metadata": {},
   "outputs": [
    {
     "data": {
      "text/plain": [
       "java.util.stream.ReferencePipeline$Head@3c93f4fc"
      ]
     },
     "execution_count": 26,
     "metadata": {},
     "output_type": "execute_result"
    }
   ],
   "source": [
    "Stream<String> uuidStream = Stream.generate(() -> UUID.randomUUID().toString());\n",
    "uuidStream;"
   ]
  },
  {
   "cell_type": "markdown",
   "metadata": {},
   "source": [
    "The Stream API provides operations of 2 types:\n",
    "- partial: `filter`, `map`, `sorted`\n",
    "- final: `collect`, `forEach`, `count`\n",
    "\n",
    "A pipeline example:"
   ]
  },
  {
   "cell_type": "code",
   "execution_count": 27,
   "metadata": {},
   "outputs": [
    {
     "name": "stdout",
     "output_type": "stream",
     "text": [
      "SAMEER\n",
      "SHEKHAR\n"
     ]
    }
   ],
   "source": [
    "List<String> names = Arrays.asList(\"shekhar\", \"rahul\", \"sameer\", \"sameer\");\n",
    "\n",
    "List<String> readingNames = names.stream()              // creates a pipeline\n",
    "        .distinct()                                     // takes unique values\n",
    "        .filter(name -> name.startsWith(\"s\"))           // filters with a predicate\n",
    "        .sorted((t1, t2) -> t1.length() - t2.length())  // sorts with a comparator\n",
    "        .map(String::toUpperCase)                       // applies a function\n",
    "        .collect(Collectors.toList());                  // creates a list with the results\n",
    "\n",
    "readingNames.forEach(System.out::println);"
   ]
  },
  {
   "cell_type": "code",
   "execution_count": 28,
   "metadata": {},
   "outputs": [
    {
     "name": "stdout",
     "output_type": "stream",
     "text": [
      "SHEKHAR\n",
      "SAMEER\n"
     ]
    }
   ],
   "source": [
    "List<String> names = Arrays.asList(\"shekhar\", \"rahul\", \"sameer\");\n",
    "\n",
    "List<String> readingNames = names.stream()\n",
    "        .filter(name -> name.startsWith(\"s\"))\n",
    "        .sorted(Comparator.comparing(String::length).reversed())   // Refactor + Reverse order\n",
    "        .map(String::toUpperCase)\n",
    "        .collect(Collectors.toList());\n",
    "\n",
    "readingNames.forEach(System.out::println);"
   ]
  },
  {
   "cell_type": "markdown",
   "metadata": {},
   "source": [
    "Other Stream methods:\n",
    "- `skip()`\n",
    "- `limit()`\n",
    "- `allMatch(<condition>)` -> boolean\n",
    "- `anyMatch(<condition>)` -> boolean\n",
    "- `noneMatch(<condition>)` -> boolean\n",
    "- `findFirst(<condition>)` -> ?\n",
    "- `findAny(<condition>)` -> ?\n",
    "- `reduce` ->\n",
    "\n",
    "Examples:"
   ]
  },
  {
   "cell_type": "code",
   "execution_count": 29,
   "metadata": {},
   "outputs": [
    {
     "name": "stdout",
     "output_type": "stream",
     "text": [
      "rahul\n",
      "sameer\n"
     ]
    }
   ],
   "source": [
    "List<String> names = Arrays.asList(\"shekhar\", \"rahul\", \"sameer\");\n",
    "\n",
    "List<String> readingNames = names.stream()\n",
    "        .skip(1)                            // skips results (useful for pagination!)\n",
    "        .limit(2)                           // limits the number of results\n",
    "        .collect(Collectors.toList());\n",
    "\n",
    "readingNames.forEach(System.out::println);"
   ]
  },
  {
   "cell_type": "code",
   "execution_count": 30,
   "metadata": {},
   "outputs": [
    {
     "data": {
      "text/plain": [
       "true"
      ]
     },
     "execution_count": 30,
     "metadata": {},
     "output_type": "execute_result"
    }
   ],
   "source": [
    "List<String> names = Arrays.asList(\"shekhar\", \"rahul\", \"sameer\");\n",
    "\n",
    "boolean anyMatch = names.stream()\n",
    "        .anyMatch(name -> name.equals(\"rahul\"));\n",
    "\n",
    "anyMatch"
   ]
  },
  {
   "cell_type": "code",
   "execution_count": 31,
   "metadata": {},
   "outputs": [
    {
     "data": {
      "text/plain": [
       "Optional[shekhar]"
      ]
     },
     "execution_count": 31,
     "metadata": {},
     "output_type": "execute_result"
    }
   ],
   "source": [
    "List<String> names = Arrays.asList(\"shekhar\", \"rahul\", \"sameer\");\n",
    "\n",
    "Optional<String> first = names.stream()\n",
    "        .findFirst();\n",
    "\n",
    "first"
   ]
  },
  {
   "cell_type": "code",
   "execution_count": 32,
   "metadata": {},
   "outputs": [
    {
     "data": {
      "text/plain": [
       "SHEKHAR | RAHUL | SAMEER"
      ]
     },
     "execution_count": 32,
     "metadata": {},
     "output_type": "execute_result"
    }
   ],
   "source": [
    "List<String> names = Arrays.asList(\"shekhar\", \"rahul\", \"sameer\");\n",
    "\n",
    "String readingNames = names.stream()\n",
    "        .map(String::toUpperCase)\n",
    "        .reduce((first, second) -> first + \" | \" + second)\n",
    "        .get();\n",
    "\n",
    "readingNames;"
   ]
  },
  {
   "cell_type": "markdown",
   "metadata": {},
   "source": [
    "## Streams elementales"
   ]
  },
  {
   "cell_type": "code",
   "execution_count": 33,
   "metadata": {},
   "outputs": [
    {
     "name": "stdout",
     "output_type": "stream",
     "text": [
      "0123456789"
     ]
    }
   ],
   "source": [
    "IntStream.range(0, 10).forEach(System.out::print);"
   ]
  },
  {
   "cell_type": "code",
   "execution_count": 34,
   "metadata": {},
   "outputs": [
    {
     "ename": "CompilationException",
     "evalue": "",
     "output_type": "error",
     "traceback": [
      "\u001b[1m\u001b[30m|   \u001b[1m\u001b[30mIntStream.rangeClosed(0, 10).forEach(System.out::printf\u001b[0m\u001b[1m\u001b[30m\u001b[41m\u001b[0m\u001b[1m\u001b[30m());\u001b[0m",
      "\u001b[1m\u001b[31m')' expected\u001b[0m",
      ""
     ]
    }
   ],
   "source": [
    "IntStream.rangeClosed(0, 10).forEach(System.out::printf());"
   ]
  },
  {
   "cell_type": "code",
   "execution_count": 35,
   "metadata": {},
   "outputs": [
    {
     "name": "stdout",
     "output_type": "stream",
     "text": [
      "246810"
     ]
    }
   ],
   "source": [
    "LongStream infiniteStream = LongStream.iterate(1, el -> el + 1);\n",
    "infiniteStream.filter(el -> el % 2 == 0).limit(5).forEach(System.out::print);"
   ]
  },
  {
   "cell_type": "code",
   "execution_count": 36,
   "metadata": {},
   "outputs": [
    {
     "name": "stdout",
     "output_type": "stream",
     "text": [
      "JAVA\n",
      "GIT\n",
      "LAMBDAS\n",
      "MACHINE-LEARNING\n"
     ]
    }
   ],
   "source": [
    "String[] tags = {\"java\", \"git\", \"lambdas\", \"machine-learning\"};\n",
    "Arrays.stream(tags).map(String::toUpperCase).forEach(System.out::println);"
   ]
  },
  {
   "cell_type": "markdown",
   "metadata": {},
   "source": [
    "## Flujos paralelos"
   ]
  },
  {
   "cell_type": "code",
   "execution_count": 37,
   "metadata": {},
   "outputs": [
    {
     "name": "stdout",
     "output_type": "stream",
     "text": [
      "IJava-executor-0 >> [12, 13, 14, 15, 16, 17, 18, 19, 20, 21, 22]\n",
      "ForkJoinPool.commonPool-worker-3 >> [1, 2, 3, 4, 5, 6, 7, 8, 9, 10, 11]\n"
     ]
    }
   ],
   "source": [
    "Map<String, List<Integer>> numbersPerThread = IntStream.rangeClosed(1, 22)\n",
    "        .parallel()\n",
    "        .boxed()\n",
    "        .collect(Collectors.groupingBy(i -> Thread.currentThread().getName()));\n",
    "\n",
    "numbersPerThread.forEach((k, v) -> System.out.println(String.format(\"%s >> %s\", k, v)));"
   ]
  },
  {
   "cell_type": "code",
   "execution_count": 38,
   "metadata": {},
   "outputs": [],
   "source": [
    "//String[] urls = {\"https://www.google.co.in/\", \"https://twitter.com/\", \"http://www.facebook.com/\"};\n",
    "//Arrays.stream(urls).parallel().map(url -> getUrlContent(url)).forEach(System.out::println);"
   ]
  },
  {
   "cell_type": "markdown",
   "metadata": {},
   "source": [
    "# 4. Collectors"
   ]
  },
  {
   "cell_type": "markdown",
   "metadata": {},
   "source": [
    "Used for several purposes:\n",
    "- reduce a stream into a single value\n",
    "- group elements in a stream\n",
    "- divide elements in a stream\n",
    "\n",
    "See the [DOCS](https://docs.oracle.com/javase/8/docs/api/java/util/stream/Collectors.html) for all the available methods."
   ]
  },
  {
   "cell_type": "markdown",
   "metadata": {},
   "source": [
    "## Previous code"
   ]
  },
  {
   "cell_type": "code",
   "execution_count": 39,
   "metadata": {},
   "outputs": [],
   "source": [
    "import java.time.*;\n",
    "import java.util.*;\n",
    "\n",
    "public enum TaskType {\n",
    "    READING, CODING, BLOGGING, WRITING\n",
    "}\n",
    "\n",
    "public class Task {\n",
    "\n",
    "    private final String id;\n",
    "    private final String title;\n",
    "    private final String description;\n",
    "    private final TaskType type;\n",
    "    private LocalDate createdOn;\n",
    "    private Set<String> tags = new HashSet<>();\n",
    "\n",
    "    public Task(final String id, final String title, final TaskType type) {\n",
    "        this.id = id;\n",
    "        this.title = title;\n",
    "        this.description = title;\n",
    "        this.type = type;\n",
    "        this.createdOn = LocalDate.now();\n",
    "    }\n",
    "\n",
    "    public Task(final String title, final TaskType type) {\n",
    "        this(title, title, type, LocalDate.now());\n",
    "    }\n",
    "\n",
    "    public Task(final String title, final TaskType type, final LocalDate createdOn) {\n",
    "        this(title, title, type, createdOn);\n",
    "    }\n",
    "\n",
    "    public Task(final String title, final String description, final TaskType type, final LocalDate createdOn) {\n",
    "        this.id = UUID.randomUUID().toString();\n",
    "        this.title = title;\n",
    "        this.description = description;\n",
    "        this.type = type;\n",
    "        this.createdOn = createdOn;\n",
    "    }\n",
    "\n",
    "    public String getId() {\n",
    "        return id;\n",
    "    }\n",
    "\n",
    "    public String getTitle() {\n",
    "        return title;\n",
    "    }\n",
    "\n",
    "    public String getDescription() {\n",
    "        return description;\n",
    "    }\n",
    "\n",
    "    public TaskType getType() {\n",
    "        return type;\n",
    "    }\n",
    "\n",
    "    public LocalDate getCreatedOn() {\n",
    "        return createdOn;\n",
    "    }\n",
    "\n",
    "    public Task addTag(String tag) {\n",
    "        this.tags.add(tag);\n",
    "        return this;\n",
    "    }\n",
    "\n",
    "    public Set<String> getTags() {\n",
    "        return Collections.unmodifiableSet(tags);\n",
    "    }\n",
    "\n",
    "    @Override\n",
    "    public String toString() {\n",
    "        return \"Task{\" +\n",
    "                \"title='\" + title + '\\'' +\n",
    "                \", type=\" + type +\n",
    "                '}';\n",
    "    }\n",
    "\n",
    "    @Override\n",
    "    public boolean equals(Object o) {\n",
    "        if (this == o) return true;\n",
    "        if (o == null || getClass() != o.getClass()) return false;\n",
    "        Task task = (Task) o;\n",
    "        return Objects.equals(title, task.title) &&\n",
    "                Objects.equals(type, task.type);\n",
    "    }\n",
    "\n",
    "    @Override\n",
    "    public int hashCode() {\n",
    "        return Objects.hash(title, type);\n",
    "    }\n",
    "}\n",
    "\n",
    "public class TaskTag {\n",
    "    final String tag;\n",
    "    final Task task;\n",
    "\n",
    "    public TaskTag(String tag, Task task) {\n",
    "        this.tag = tag;\n",
    "        this.task = task;\n",
    "    }\n",
    "\n",
    "    public String getTag() {\n",
    "        return tag;\n",
    "    }\n",
    "\n",
    "    public Task getTask() {\n",
    "        return task;\n",
    "    }\n",
    "}\n",
    "\n",
    "Task task1 = new Task(\"Read Version Control with Git book\", TaskType.READING, \n",
    "        LocalDate.of(2015, Month.JULY, 1)).addTag(\"git\").addTag(\"reading\").addTag(\"books\");\n",
    "Task task2 = new Task(\"Read Java 8 Lambdas book\", TaskType.READING, \n",
    "        LocalDate.of(2015, Month.JULY, 2)).addTag(\"java8\").addTag(\"reading\").addTag(\"books\");\n",
    "Task task3 = new Task(\"Write a mobile application to store my tasks\", TaskType.CODING, \n",
    "        LocalDate.of(2015, Month.JULY, 3)).addTag(\"coding\").addTag(\"mobile\");\n",
    "Task task4 = new Task(\"Write a blog on Java 8 Streams\", TaskType.WRITING, \n",
    "        LocalDate.of(2015, Month.JULY, 4)).addTag(\"blogging\").addTag(\"writing\").addTag(\"streams\");\n",
    "Task task5 = new Task(\"Read Domain Driven Design book\", TaskType.READING, \n",
    "        LocalDate.of(2015, Month.JULY, 5)).addTag(\"ddd\").addTag(\"books\").addTag(\"reading\");\n",
    "\n",
    "List<Task> tasks = Arrays.asList(task1, task2, task3, task4, task5);"
   ]
  },
  {
   "cell_type": "markdown",
   "metadata": {},
   "source": [
    "## Generating a value"
   ]
  },
  {
   "cell_type": "markdown",
   "metadata": {},
   "source": [
    "To list, to set:"
   ]
  },
  {
   "cell_type": "code",
   "execution_count": 40,
   "metadata": {},
   "outputs": [
    {
     "data": {
      "text/plain": [
       "[Read Version Control with Git book, Read Java 8 Lambdas book, Write a mobile application to store my tasks, Write a blog on Java 8 Streams, Read Domain Driven Design book]"
      ]
     },
     "execution_count": 40,
     "metadata": {},
     "output_type": "execute_result"
    }
   ],
   "source": [
    "tasks.stream().map(Task::getTitle).collect(Collectors.toList());"
   ]
  },
  {
   "cell_type": "code",
   "execution_count": 41,
   "metadata": {},
   "outputs": [
    {
     "data": {
      "text/plain": [
       "[Write a blog on Java 8 Streams, Read Domain Driven Design book, Read Java 8 Lambdas book, Write a mobile application to store my tasks, Read Version Control with Git book]"
      ]
     },
     "execution_count": 41,
     "metadata": {},
     "output_type": "execute_result"
    }
   ],
   "source": [
    "tasks.stream().map(Task::getTitle).collect(Collectors.toSet());"
   ]
  },
  {
   "cell_type": "markdown",
   "metadata": {},
   "source": [
    "To map:"
   ]
  },
  {
   "cell_type": "code",
   "execution_count": 42,
   "metadata": {},
   "outputs": [
    {
     "data": {
      "text/plain": [
       "{Write a blog on Java 8 Streams=Task{title='Write a blog on Java 8 Streams', type=WRITING}, Read Domain Driven Design book=Task{title='Read Domain Driven Design book', type=READING}, Read Java 8 Lambdas book=Task{title='Read Java 8 Lambdas book', type=READING}, Write a mobile application to store my tasks=Task{title='Write a mobile application to store my tasks', type=CODING}, Read Version Control with Git book=Task{title='Read Version Control with Git book', type=READING}}"
      ]
     },
     "execution_count": 42,
     "metadata": {},
     "output_type": "execute_result"
    }
   ],
   "source": [
    "tasks.stream().collect(Collectors.toMap(Task::getTitle, Function.identity())); // identity() = task -> task"
   ]
  },
  {
   "cell_type": "markdown",
   "metadata": {},
   "source": [
    "To map, with duplicates control:"
   ]
  },
  {
   "cell_type": "code",
   "execution_count": 43,
   "metadata": {},
   "outputs": [
    {
     "data": {
      "text/plain": [
       "{WRITING=Task{title='Write a blog on Java 8 Streams', type=WRITING}, READING=Task{title='Read Domain Driven Design book', type=READING}, CODING=Task{title='Write a mobile application to store my tasks', type=CODING}}"
      ]
     },
     "execution_count": 43,
     "metadata": {},
     "output_type": "execute_result"
    }
   ],
   "source": [
    "tasks.stream().collect(Collectors.toMap(Task::getType, Function.identity(), (t1, t2) -> t2));"
   ]
  },
  {
   "cell_type": "markdown",
   "metadata": {},
   "source": [
    "To another type of map:"
   ]
  },
  {
   "cell_type": "code",
   "execution_count": 44,
   "metadata": {},
   "outputs": [
    {
     "data": {
      "text/plain": [
       "{READING=Task{title='Read Domain Driven Design book', type=READING}, CODING=Task{title='Write a mobile application to store my tasks', type=CODING}, WRITING=Task{title='Write a blog on Java 8 Streams', type=WRITING}}"
      ]
     },
     "execution_count": 44,
     "metadata": {},
     "output_type": "execute_result"
    }
   ],
   "source": [
    "tasks.stream().collect(Collectors.toMap(Task::getType, Function.identity(), (t1, t2) -> t2, LinkedHashMap::new));"
   ]
  },
  {
   "cell_type": "markdown",
   "metadata": {},
   "source": [
    "To other types:"
   ]
  },
  {
   "cell_type": "code",
   "execution_count": 45,
   "metadata": {},
   "outputs": [
    {
     "data": {
      "text/plain": [
       "[Task{title='Read Version Control with Git book', type=READING}, Task{title='Read Java 8 Lambdas book', type=READING}, Task{title='Write a mobile application to store my tasks', type=CODING}, Task{title='Write a blog on Java 8 Streams', type=WRITING}, Task{title='Read Domain Driven Design book', type=READING}]"
      ]
     },
     "execution_count": 45,
     "metadata": {},
     "output_type": "execute_result"
    }
   ],
   "source": [
    "tasks.stream().collect(Collectors.toCollection(LinkedHashSet::new));"
   ]
  },
  {
   "cell_type": "markdown",
   "metadata": {},
   "source": [
    "Find the longest title:"
   ]
  },
  {
   "cell_type": "code",
   "execution_count": 46,
   "metadata": {},
   "outputs": [
    {
     "data": {
      "text/plain": [
       "Task{title='Write a mobile application to store my tasks', type=CODING}"
      ]
     },
     "execution_count": 46,
     "metadata": {},
     "output_type": "execute_result"
    }
   ],
   "source": [
    "tasks.stream().collect(Collectors.collectingAndThen(Collectors.maxBy(\n",
    "        (t1, t2) -> t1.getTitle().length() - t2.getTitle().length()), Optional::get));"
   ]
  },
  {
   "cell_type": "markdown",
   "metadata": {},
   "source": [
    "Count tag number:"
   ]
  },
  {
   "cell_type": "code",
   "execution_count": 47,
   "metadata": {},
   "outputs": [
    {
     "data": {
      "text/plain": [
       "14"
      ]
     },
     "execution_count": 47,
     "metadata": {},
     "output_type": "execute_result"
    }
   ],
   "source": [
    "tasks.stream().collect(Collectors.summingInt(task -> task.getTags().size()));"
   ]
  },
  {
   "cell_type": "markdown",
   "metadata": {},
   "source": [
    "Titles summary:"
   ]
  },
  {
   "cell_type": "code",
   "execution_count": 48,
   "metadata": {},
   "outputs": [
    {
     "data": {
      "text/plain": [
       "Read Version Control with Git book; Read Java 8 Lambdas book; Write a mobile application to store my tasks; Write a blog on Java 8 Streams; Read Domain Driven Design book"
      ]
     },
     "execution_count": 48,
     "metadata": {},
     "output_type": "execute_result"
    }
   ],
   "source": [
    "tasks.stream().map(Task::getTitle).collect(Collectors.joining(\"; \"));"
   ]
  },
  {
   "cell_type": "markdown",
   "metadata": {},
   "source": [
    "## Grouping accumulators"
   ]
  },
  {
   "cell_type": "markdown",
   "metadata": {},
   "source": [
    "Group by type:"
   ]
  },
  {
   "cell_type": "code",
   "execution_count": 49,
   "metadata": {},
   "outputs": [
    {
     "data": {
      "text/plain": [
       "{WRITING=[Task{title='Write a blog on Java 8 Streams', type=WRITING}], READING=[Task{title='Read Version Control with Git book', type=READING}, Task{title='Read Java 8 Lambdas book', type=READING}, Task{title='Read Domain Driven Design book', type=READING}], CODING=[Task{title='Write a mobile application to store my tasks', type=CODING}]}"
      ]
     },
     "execution_count": 49,
     "metadata": {},
     "output_type": "execute_result"
    }
   ],
   "source": [
    "tasks.stream().collect(Collectors.groupingBy(Task::getType));"
   ]
  },
  {
   "cell_type": "markdown",
   "metadata": {},
   "source": [
    "Group by tag:"
   ]
  },
  {
   "cell_type": "code",
   "execution_count": 50,
   "metadata": {},
   "outputs": [
    {
     "data": {
      "text/plain": [
       "{coding=[Task{title='Write a mobile application to store my tasks', type=CODING}], books=[Task{title='Read Version Control with Git book', type=READING}, Task{title='Read Java 8 Lambdas book', type=READING}, Task{title='Read Domain Driven Design book', type=READING}], git=[Task{title='Read Version Control with Git book', type=READING}], blogging=[Task{title='Write a blog on Java 8 Streams', type=WRITING}], ddd=[Task{title='Read Domain Driven Design book', type=READING}], java8=[Task{title='Read Java 8 Lambdas book', type=READING}], streams=[Task{title='Write a blog on Java 8 Streams', type=WRITING}], writing=[Task{title='Write a blog on Java 8 Streams', type=WRITING}], mobile=[Task{title='Write a mobile application to store my tasks', type=CODING}], reading=[Task{title='Read Version Control with Git book', type=READING}, Task{title='Read Java 8 Lambdas book', type=READING}, Task{title='Read Domain Driven Design book', type=READING}]}"
      ]
     },
     "execution_count": 50,
     "metadata": {},
     "output_type": "execute_result"
    }
   ],
   "source": [
    "tasks.stream().flatMap(task -> task.getTags().stream().map(tag -> new TaskTag(tag, task))).\n",
    "        collect(Collectors.groupingBy(TaskTag::getTag, Collectors.mapping(TaskTag::getTask, Collectors.toList())));"
   ]
  },
  {
   "cell_type": "markdown",
   "metadata": {},
   "source": [
    "Group by task and date:"
   ]
  },
  {
   "cell_type": "code",
   "execution_count": 51,
   "metadata": {},
   "outputs": [
    {
     "data": {
      "text/plain": [
       "{WRITING={2015-07-04=[Task{title='Write a blog on Java 8 Streams', type=WRITING}]}, READING={2015-07-05=[Task{title='Read Domain Driven Design book', type=READING}], 2015-07-02=[Task{title='Read Java 8 Lambdas book', type=READING}], 2015-07-01=[Task{title='Read Version Control with Git book', type=READING}]}, CODING={2015-07-03=[Task{title='Write a mobile application to store my tasks', type=CODING}]}}"
      ]
     },
     "execution_count": 51,
     "metadata": {},
     "output_type": "execute_result"
    }
   ],
   "source": [
    "tasks.stream().collect(Collectors.groupingBy(Task::getType, Collectors.groupingBy(Task::getCreatedOn)));"
   ]
  },
  {
   "cell_type": "markdown",
   "metadata": {},
   "source": [
    "## Dividing"
   ]
  },
  {
   "cell_type": "markdown",
   "metadata": {},
   "source": [
    "Division made on a date:"
   ]
  },
  {
   "cell_type": "code",
   "execution_count": 52,
   "metadata": {},
   "outputs": [
    {
     "data": {
      "text/plain": [
       "{false=[Task{title='Read Version Control with Git book', type=READING}, Task{title='Read Java 8 Lambdas book', type=READING}, Task{title='Write a mobile application to store my tasks', type=CODING}, Task{title='Write a blog on Java 8 Streams', type=WRITING}, Task{title='Read Domain Driven Design book', type=READING}], true=[]}"
      ]
     },
     "execution_count": 52,
     "metadata": {},
     "output_type": "execute_result"
    }
   ],
   "source": [
    "tasks.stream().collect(Collectors.partitioningBy(task -> task.getCreatedOn().isAfter(LocalDate.now())));"
   ]
  },
  {
   "cell_type": "markdown",
   "metadata": {},
   "source": [
    "# 5. Optionals"
   ]
  },
  {
   "cell_type": "markdown",
   "metadata": {},
   "source": [
    "We can see an Optional like a single element Stream. It has methods similar to Stream API like `map`, `filter`, and `flatMap`, which we can use to work with values contained in the Optional.\n",
    "\n",
    "There are 3 ways of creating them:\n",
    "\n",
    "- `Optional.empty`: used to create an Optional when a value is not present.\n",
    "- `Optional.of(T value)`: used to create an Optional from a non-null value. It throws NullPointerException when value is null.\n",
    "- **`Optional.ofNullable(T value)`**: static factory method which works for both null and non-null values. For null values it will create an empty Optional and for non-null values it will create an Optional using the value."
   ]
  },
  {
   "cell_type": "markdown",
   "metadata": {},
   "source": [
    "Example with **`map`**:"
   ]
  },
  {
   "cell_type": "code",
   "execution_count": 53,
   "metadata": {},
   "outputs": [],
   "source": [
    "public String taskTitle(String taskId) {\n",
    "    return taskRepository.\n",
    "            find(taskId).\n",
    "            map(Task::getTitle).    // Translates from Optional<Task> to Optional<String>\n",
    "            orElseThrow(() -> new TaskNotFoundException(String.format(\"No task exist for id '%s'\",taskId)));\n",
    "}"
   ]
  },
  {
   "cell_type": "markdown",
   "metadata": {},
   "source": [
    "There are 3 different `orElse*` methods:\n",
    "\n",
    "- `orElse(T t)`: used to return the value if it exists, or returns the value t passed as parameter, like Optional.ofNullable(null).orElse(\"NoValue\"). This will return \"NoValue\" as no value exists.\n",
    "- `orElseGet()`: used to return the value if it exists, otherwise invokes the Supplier's get method to produce a new value. For example, Optional.ofNullable(uuid).orElseGet(() -> UUID.randomUUID().toString() could be used to lazily produce a value only when none is present.\n",
    "- `orElseThrow()`: this allow clients to throw their own custom exception when a value is not present."
   ]
  },
  {
   "cell_type": "markdown",
   "metadata": {},
   "source": [
    "Example with **`flatMap`**:"
   ]
  },
  {
   "cell_type": "code",
   "execution_count": 54,
   "metadata": {},
   "outputs": [],
   "source": [
    "public String taskAssignedTo(String taskId) {\n",
    "    return taskRepository.\n",
    "            find(taskId).\n",
    "            flatMap(task -> task.getAssignedTo().map(user -> user.getUsername())).\n",
    "            orElse(\"NotAssigned\");\n",
    "}"
   ]
  },
  {
   "cell_type": "markdown",
   "metadata": {},
   "source": [
    "Example with **`filter`**:"
   ]
  },
  {
   "cell_type": "code",
   "execution_count": 55,
   "metadata": {},
   "outputs": [],
   "source": [
    "public boolean isTaskDueToday(Optional<Task> task) {\n",
    "    return task.flatMap(Task::getCreatedOn).filter(d -> d.isEqual(LocalDate.now())).isPresent();\n",
    "}"
   ]
  },
  {
   "cell_type": "markdown",
   "metadata": {},
   "source": [
    "# 6. Map improvements"
   ]
  },
  {
   "cell_type": "markdown",
   "metadata": {},
   "source": [
    "Create a Map from a List (we could create more types of Map):"
   ]
  },
  {
   "cell_type": "code",
   "execution_count": 56,
   "metadata": {},
   "outputs": [
    {
     "data": {
      "text/plain": [
       "{02b4597b-6d91-4b9e-8b01-a4b98deb1a65=Task{title='Write a mobile application to store my tasks', type=CODING}, f5be10c3-dc81-465d-9f05-f51c95c2aeb8=Task{title='Read Version Control with Git book', type=READING}, 8b34906b-e53b-4ad5-be57-d94821cb05af=Task{title='Read Domain Driven Design book', type=READING}, b235a4c5-11b5-4295-9c24-e56e9426c737=Task{title='Write a blog on Java 8 Streams', type=WRITING}, 8133a563-b529-4e69-bdf1-2e4e2c090008=Task{title='Read Java 8 Lambdas book', type=READING}}"
      ]
     },
     "execution_count": 56,
     "metadata": {},
     "output_type": "execute_result"
    }
   ],
   "source": [
    " Map<String, Task> taskIdToTaskMap = tasks.stream()\n",
    "         .collect(Collectors.toMap(Task::getId, Function.identity()));\n",
    " taskIdToTaskMap"
   ]
  },
  {
   "cell_type": "markdown",
   "metadata": {},
   "source": [
    "Removing duplicates:"
   ]
  },
  {
   "cell_type": "code",
   "execution_count": 57,
   "metadata": {},
   "outputs": [
    {
     "data": {
      "text/plain": [
       "{02b4597b-6d91-4b9e-8b01-a4b98deb1a65=Task{title='Write a mobile application to store my tasks', type=CODING}, f5be10c3-dc81-465d-9f05-f51c95c2aeb8=Task{title='Read Version Control with Git book', type=READING}, 8b34906b-e53b-4ad5-be57-d94821cb05af=Task{title='Read Domain Driven Design book', type=READING}, b235a4c5-11b5-4295-9c24-e56e9426c737=Task{title='Write a blog on Java 8 Streams', type=WRITING}, 8133a563-b529-4e69-bdf1-2e4e2c090008=Task{title='Read Java 8 Lambdas book', type=READING}}"
      ]
     },
     "execution_count": 57,
     "metadata": {},
     "output_type": "execute_result"
    }
   ],
   "source": [
    "Map<String, Task> taskIdToTaskMap2 = tasks.stream()\n",
    "        .collect(Collectors.toMap(Task::getId, Function.identity(), (k1, k2) -> k2));\n",
    "taskIdToTaskMap2"
   ]
  },
  {
   "cell_type": "markdown",
   "metadata": {},
   "source": [
    "We can also create a Map from tuples."
   ]
  },
  {
   "cell_type": "markdown",
   "metadata": {},
   "source": [
    "# 7. Date Time API"
   ]
  },
  {
   "cell_type": "markdown",
   "metadata": {},
   "source": [
    "The 3 classes that we'll encounter most in the new API are:\n",
    "\n",
    "- `LocalDate`: represents a date with no time or timezone.\n",
    "- `LocalTime`: represents time with no date or timezone.\n",
    "- `LocalDateTime`: is the combination of LocalDate and LocalTime (date with time without time zone)."
   ]
  },
  {
   "cell_type": "code",
   "execution_count": 58,
   "metadata": {},
   "outputs": [],
   "source": [
    "import java.time.*;\n",
    "import java.time.format.*;\n",
    "import java.time.temporal.*;"
   ]
  },
  {
   "cell_type": "markdown",
   "metadata": {},
   "source": [
    "## LocalDate"
   ]
  },
  {
   "cell_type": "code",
   "execution_count": 59,
   "metadata": {},
   "outputs": [
    {
     "data": {
      "text/plain": [
       "2019-07-08"
      ]
     },
     "execution_count": 59,
     "metadata": {},
     "output_type": "execute_result"
    }
   ],
   "source": [
    "LocalDate.of(2019, Month.JULY, 8);"
   ]
  },
  {
   "cell_type": "code",
   "execution_count": 60,
   "metadata": {},
   "outputs": [
    {
     "data": {
      "text/plain": [
       "2015-03-31"
      ]
     },
     "execution_count": 60,
     "metadata": {},
     "output_type": "execute_result"
    }
   ],
   "source": [
    "LocalDate.ofYearDay(2015, 90)"
   ]
  },
  {
   "cell_type": "code",
   "execution_count": 61,
   "metadata": {},
   "outputs": [
    {
     "data": {
      "text/plain": [
       "1970-01-02"
      ]
     },
     "execution_count": 61,
     "metadata": {},
     "output_type": "execute_result"
    }
   ],
   "source": [
    "LocalDate.ofEpochDay(1)"
   ]
  },
  {
   "cell_type": "code",
   "execution_count": 62,
   "metadata": {},
   "outputs": [
    {
     "data": {
      "text/plain": [
       "2019-07-08"
      ]
     },
     "execution_count": 62,
     "metadata": {},
     "output_type": "execute_result"
    }
   ],
   "source": [
    "LocalDate ld = LocalDate.now();\n",
    "ld"
   ]
  },
  {
   "cell_type": "code",
   "execution_count": 63,
   "metadata": {},
   "outputs": [
    {
     "name": "stdout",
     "output_type": "stream",
     "text": [
      "JULY, 2019, 8, 189"
     ]
    }
   ],
   "source": [
    "System.out.print(ld.getMonth() + \", \" + ld.getYear() + \", \" + ld.getDayOfMonth() + \", \" + ld.getDayOfYear())"
   ]
  },
  {
   "cell_type": "markdown",
   "metadata": {},
   "source": [
    "## LocalTime"
   ]
  },
  {
   "cell_type": "code",
   "execution_count": 64,
   "metadata": {},
   "outputs": [
    {
     "data": {
      "text/plain": [
       "01:15"
      ]
     },
     "execution_count": 64,
     "metadata": {},
     "output_type": "execute_result"
    }
   ],
   "source": [
    "LocalTime.of(1, 15);"
   ]
  },
  {
   "cell_type": "code",
   "execution_count": 65,
   "metadata": {},
   "outputs": [
    {
     "data": {
      "text/plain": [
       "15:01:40.579682"
      ]
     },
     "execution_count": 65,
     "metadata": {},
     "output_type": "execute_result"
    }
   ],
   "source": [
    "LocalTime lt = LocalTime.now();\n",
    "lt;"
   ]
  },
  {
   "cell_type": "code",
   "execution_count": 66,
   "metadata": {},
   "outputs": [
    {
     "name": "stdout",
     "output_type": "stream",
     "text": [
      "15, 1, 40"
     ]
    }
   ],
   "source": [
    "System.out.print(lt.getHour() + \", \" + lt.getMinute() + \", \" + lt.getSecond())"
   ]
  },
  {
   "cell_type": "markdown",
   "metadata": {},
   "source": [
    "## LocalDateTime"
   ]
  },
  {
   "cell_type": "code",
   "execution_count": 67,
   "metadata": {},
   "outputs": [
    {
     "data": {
      "text/plain": [
       "2019-07-08T15:01:40.579682"
      ]
     },
     "execution_count": 67,
     "metadata": {},
     "output_type": "execute_result"
    }
   ],
   "source": [
    "LocalDateTime.of(ld, lt);"
   ]
  },
  {
   "cell_type": "code",
   "execution_count": 68,
   "metadata": {},
   "outputs": [
    {
     "data": {
      "text/plain": [
       "2019-07-08T15:01:40.890058"
      ]
     },
     "execution_count": 68,
     "metadata": {},
     "output_type": "execute_result"
    }
   ],
   "source": [
    "LocalDateTime ldt = LocalDateTime.now();\n",
    "ldt"
   ]
  },
  {
   "cell_type": "markdown",
   "metadata": {},
   "source": [
    "## Manipulating dates"
   ]
  },
  {
   "cell_type": "code",
   "execution_count": 69,
   "metadata": {},
   "outputs": [
    {
     "data": {
      "text/plain": [
       "2019-07-08"
      ]
     },
     "execution_count": 69,
     "metadata": {},
     "output_type": "execute_result"
    }
   ],
   "source": [
    "ld"
   ]
  },
  {
   "cell_type": "code",
   "execution_count": 70,
   "metadata": {},
   "outputs": [
    {
     "data": {
      "text/plain": [
       "2019-07-09"
      ]
     },
     "execution_count": 70,
     "metadata": {},
     "output_type": "execute_result"
    }
   ],
   "source": [
    "ld.plusDays(1);"
   ]
  },
  {
   "cell_type": "code",
   "execution_count": 71,
   "metadata": {},
   "outputs": [
    {
     "data": {
      "text/plain": [
       "2019-07-15"
      ]
     },
     "execution_count": 71,
     "metadata": {},
     "output_type": "execute_result"
    }
   ],
   "source": [
    "ld.plusWeeks(1);"
   ]
  },
  {
   "cell_type": "code",
   "execution_count": 72,
   "metadata": {},
   "outputs": [
    {
     "data": {
      "text/plain": [
       "2019-08-08"
      ]
     },
     "execution_count": 72,
     "metadata": {},
     "output_type": "execute_result"
    }
   ],
   "source": [
    "ld.plusMonths(1);"
   ]
  },
  {
   "cell_type": "code",
   "execution_count": 73,
   "metadata": {},
   "outputs": [
    {
     "data": {
      "text/plain": [
       "2020-07-08"
      ]
     },
     "execution_count": 73,
     "metadata": {},
     "output_type": "execute_result"
    }
   ],
   "source": [
    "ld.plusYears(1);"
   ]
  },
  {
   "cell_type": "code",
   "execution_count": 74,
   "metadata": {},
   "outputs": [
    {
     "data": {
      "text/plain": [
       "2018-07-08"
      ]
     },
     "execution_count": 74,
     "metadata": {},
     "output_type": "execute_result"
    }
   ],
   "source": [
    "ld.minusYears(1);"
   ]
  },
  {
   "cell_type": "code",
   "execution_count": 75,
   "metadata": {},
   "outputs": [
    {
     "data": {
      "text/plain": [
       "15:01:40.579682"
      ]
     },
     "execution_count": 75,
     "metadata": {},
     "output_type": "execute_result"
    }
   ],
   "source": [
    "lt"
   ]
  },
  {
   "cell_type": "code",
   "execution_count": 76,
   "metadata": {},
   "outputs": [
    {
     "data": {
      "text/plain": [
       "15:01:41.579682"
      ]
     },
     "execution_count": 76,
     "metadata": {},
     "output_type": "execute_result"
    }
   ],
   "source": [
    "lt.plusSeconds(1)"
   ]
  },
  {
   "cell_type": "code",
   "execution_count": 77,
   "metadata": {},
   "outputs": [
    {
     "data": {
      "text/plain": [
       "15:02:40.579682"
      ]
     },
     "execution_count": 77,
     "metadata": {},
     "output_type": "execute_result"
    }
   ],
   "source": [
    "lt.plusMinutes(1)"
   ]
  },
  {
   "cell_type": "code",
   "execution_count": 78,
   "metadata": {},
   "outputs": [
    {
     "data": {
      "text/plain": [
       "16:01:40.579682"
      ]
     },
     "execution_count": 78,
     "metadata": {},
     "output_type": "execute_result"
    }
   ],
   "source": [
    "lt.plusHours(1)"
   ]
  },
  {
   "cell_type": "code",
   "execution_count": 79,
   "metadata": {},
   "outputs": [
    {
     "data": {
      "text/plain": [
       "14:01:40.579682"
      ]
     },
     "execution_count": 79,
     "metadata": {},
     "output_type": "execute_result"
    }
   ],
   "source": [
    "lt.minusHours(1)"
   ]
  },
  {
   "cell_type": "markdown",
   "metadata": {},
   "source": [
    "### Duration"
   ]
  },
  {
   "cell_type": "code",
   "execution_count": 80,
   "metadata": {},
   "outputs": [
    {
     "data": {
      "text/plain": [
       "PT14H1M40.579682S"
      ]
     },
     "execution_count": 80,
     "metadata": {},
     "output_type": "execute_result"
    }
   ],
   "source": [
    "Duration.between(LocalTime.of(1, 0), lt)"
   ]
  },
  {
   "cell_type": "markdown",
   "metadata": {},
   "source": [
    "### Period"
   ]
  },
  {
   "cell_type": "code",
   "execution_count": 81,
   "metadata": {},
   "outputs": [
    {
     "data": {
      "text/plain": [
       "P49Y11M18D"
      ]
     },
     "execution_count": 81,
     "metadata": {},
     "output_type": "execute_result"
    }
   ],
   "source": [
    "Period.between(LocalDate.of(1969, Month.JULY, 20), ld);"
   ]
  },
  {
   "cell_type": "markdown",
   "metadata": {},
   "source": [
    "### Formatting and Parsing"
   ]
  },
  {
   "cell_type": "code",
   "execution_count": 82,
   "metadata": {},
   "outputs": [
    {
     "data": {
      "text/plain": [
       "08-07-2019 - 15:01:40"
      ]
     },
     "execution_count": 82,
     "metadata": {},
     "output_type": "execute_result"
    }
   ],
   "source": [
    "DateTimeFormatter formatter = DateTimeFormatter.ofPattern(\"dd-MM-YYYY - HH:mm:ss\");\n",
    "ldt.format(formatter);"
   ]
  },
  {
   "cell_type": "code",
   "execution_count": 83,
   "metadata": {},
   "outputs": [
    {
     "data": {
      "text/plain": [
       "1931-10-15T01:15"
      ]
     },
     "execution_count": 83,
     "metadata": {},
     "output_type": "execute_result"
    }
   ],
   "source": [
    "LocalDateTime.parse(\"15 Oct 1931 01:15 AM\", DateTimeFormatter.ofPattern(\"dd MMM yyyy hh:mm a\"));"
   ]
  },
  {
   "cell_type": "markdown",
   "metadata": {},
   "source": [
    "### Temporal Adjusters"
   ]
  },
  {
   "cell_type": "code",
   "execution_count": 84,
   "metadata": {},
   "outputs": [
    {
     "data": {
      "text/plain": [
       "2019-07-01T15:01:40.890058"
      ]
     },
     "execution_count": 84,
     "metadata": {},
     "output_type": "execute_result"
    }
   ],
   "source": [
    "ldt.with(TemporalAdjusters.firstDayOfMonth());"
   ]
  },
  {
   "cell_type": "code",
   "execution_count": 85,
   "metadata": {},
   "outputs": [
    {
     "data": {
      "text/plain": [
       "2019-08-01T15:01:40.890058"
      ]
     },
     "execution_count": 85,
     "metadata": {},
     "output_type": "execute_result"
    }
   ],
   "source": [
    "ldt.with(TemporalAdjusters.firstDayOfNextMonth());"
   ]
  },
  {
   "cell_type": "code",
   "execution_count": 86,
   "metadata": {},
   "outputs": [
    {
     "data": {
      "text/plain": [
       "2019-07-26T15:01:40.890058"
      ]
     },
     "execution_count": 86,
     "metadata": {},
     "output_type": "execute_result"
    }
   ],
   "source": [
    "ldt.with(TemporalAdjusters.lastInMonth(DayOfWeek.FRIDAY));"
   ]
  },
  {
   "cell_type": "markdown",
   "metadata": {},
   "source": [
    "See the [DOCS](https://docs.oracle.com/javase/8/docs/api/java/time/temporal/TemporalAdjusters.html) for all the temporal adjusters."
   ]
  }
 ],
 "metadata": {
  "kernelspec": {
   "display_name": "Java",
   "language": "java",
   "name": "java"
  },
  "language_info": {
   "codemirror_mode": "java",
   "file_extension": ".jshell",
   "mimetype": "text/x-java-source",
   "name": "Java",
   "pygments_lexer": "java",
   "version": "11.0.3+7"
  }
 },
 "nbformat": 4,
 "nbformat_minor": 2
}
